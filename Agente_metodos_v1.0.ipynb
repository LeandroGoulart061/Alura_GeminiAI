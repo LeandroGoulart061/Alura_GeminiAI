{
  "cells": [
    {
      "cell_type": "code",
      "execution_count": 18,
      "id": "af8219bd",
      "metadata": {
        "collapsed": true,
        "id": "af8219bd"
      },
      "outputs": [],
      "source": [
        "## 1- Intalar a biblioteca google-genai  e google-adk##\n",
        "%pip -q install google-genai\n",
        "%pip -q install google-adk\n",
        "%pip -q install nest_asyncio"
      ]
    },
    {
      "cell_type": "code",
      "execution_count": 2,
      "id": "8651b58d",
      "metadata": {
        "id": "8651b58d"
      },
      "outputs": [],
      "source": [
        "# 2- Configurar a API do google-genai\n",
        "import os\n",
        "from google.colab import userdata #importando a biblioteca userdata\n",
        "\n",
        "os.environ[\"GOOGLE_API_KEY\"] = userdata.get('GOOGLE_API_KEY') # Defina a chave da API do Google GenAI"
      ]
    },
    {
      "cell_type": "code",
      "execution_count": 3,
      "id": "7dd4fc43",
      "metadata": {
        "id": "7dd4fc43"
      },
      "outputs": [],
      "source": [
        "# 3- Configurar cliente da SDK do Gemini\n",
        "from google import genai #importando a biblioteca genai\n",
        "\n",
        "client = genai.Client() # Configurando o cliente\n",
        "MODEL_ID = \"gemini-2.0-flash\" # Definindo o modelo"
      ]
    },
    {
      "cell_type": "code",
      "execution_count": 19,
      "id": "eade832c",
      "metadata": {
        "id": "eade832c"
      },
      "outputs": [],
      "source": [
        "# 4- Importar bibliotecas do ADK e utilitários\n",
        "\n",
        "from google.adk.agents import Agent #importando a biblioteca agent\n",
        "from google.adk.runners import Runner #importando a biblioteca runner\n",
        "from google.adk.sessions import InMemorySessionService #importando a biblioteca session\n",
        "from google.adk.tools import google_search #importando a biblioteca google_search\n",
        "from google.genai import types #importando a biblioteca types\n",
        "from datetime import date #importando a biblioteca date\n",
        "import textwrap #importando a biblioteca textwrap\n",
        "import uuid # importando a biblioteca uuid\n",
        "import nest_asyncio #importando a biblioteca nest_asyncio\n",
        "import asyncio #importando a biblioteca asyncio\n",
        "import warnings #importando a biblioteca warnings\n",
        "from IPython.display import display, Markdown #importando a biblioteca display\n",
        "import ipywidgets as widgets #importando a biblioteca widgets\n",
        "\n",
        "warnings.filterwarnings(\"ignore\") #ignorando os avisos\n",
        "nest_asyncio.apply() #aplicando o nest_asyncio"
      ]
    },
    {
      "cell_type": "code",
      "execution_count": 44,
      "id": "ac88de9b",
      "metadata": {
        "id": "ac88de9b"
      },
      "outputs": [],
      "source": [
        "# 5- Funções auxiliares\n",
        "import datetime\n",
        "conversas_log = []\n",
        "\n",
        "async def call_agent_with_log_async(agent: Agent, message_text: str, exibir_log=False) -> str:\n",
        "    try:\n",
        "        session_service = InMemorySessionService()\n",
        "        session_id = str(uuid.uuid4())\n",
        "\n",
        "        await session_service.create_session(app_name=agent.name, user_id=\"user1\", session_id=session_id)\n",
        "\n",
        "        runner = Runner(agent=agent, app_name=agent.name, session_service=session_service)\n",
        "        content = types.Content(role=\"user\", parts=[types.Part(text=message_text)])\n",
        "\n",
        "        final_response = \"\"\n",
        "        async for event in runner.run_async(user_id=\"user1\", session_id=session_id, new_message=content):\n",
        "            if event.is_final_response():\n",
        "                for part in event.content.parts:\n",
        "                    if part.text:\n",
        "                        final_response += part.text + \"\\n\"\n",
        "\n",
        "        registro = {\n",
        "            \"agente\": agent.name,\n",
        "            \"data_hora\": datetime.datetime.now().isoformat(),\n",
        "            \"entrada\": message_text,\n",
        "            \"resposta\": final_response.strip(),\n",
        "            \"session_id\": session_id\n",
        "        }\n",
        "        conversas_log.append(registro)\n",
        "\n",
        "        if exibir_log:\n",
        "            print(f\"[LOG] {registro}\")\n",
        "\n",
        "        return final_response.strip()\n",
        "\n",
        "    except Exception as e:\n",
        "        erro_msg = f\"⚠️ Erro ao executar o agente '{agent.name}': {str(e)}\"\n",
        "        conversas_log.append({\n",
        "            \"agente\": agent.name,\n",
        "            \"data_hora\": datetime.datetime.now().isoformat(),\n",
        "            \"entrada\": message_text,\n",
        "            \"resposta\": erro_msg,\n",
        "            \"session_id\": session_id if 'session_id' in locals() else 'erro_antes_da_criacao'\n",
        "        })\n",
        "        return erro_msg\n",
        "\n",
        "def to_markdown(text): # Função para converter texto em Markdown\n",
        "    text = text.replace('•', '  *') # Substitui os marcadores de lista\n",
        "    return Markdown(textwrap.indent(text, '> ', predicate=lambda _: True)) # Adiciona um marcador de citação"
      ]
    },
    {
      "cell_type": "code",
      "execution_count": 48,
      "id": "941b5d49",
      "metadata": {
        "id": "941b5d49"
      },
      "outputs": [],
      "source": [
        "# 6 - Agentes\n",
        "\n",
        "# Criando um agente de diagnóstico\n",
        "agente_diagnostico = Agent(\n",
        "    name=\"Diagnóstico\",\n",
        "    description=\"Agente que faz o diagnóstico de um problema.\",\n",
        "    model=MODEL_ID,\n",
        "    instruction=\"\"\"\n",
        "Você é um consultor experiente em gestão empresarial. Sua tarefa é interpretar o texto enviado por um gestor que descreve um desafio real em seu trabalho.\n",
        "\n",
        "Extraia e retorne de forma clara:\n",
        "- Tipo de desafio (ex: produtividade, comunicação, priorização, sobrecarga, etc.)\n",
        "- Área afetada (ex: projetos, processos, equipe, tecnologia, etc.)\n",
        "- Grau de urgência (baixa, média ou alta)\n",
        "\n",
        "Texto do gestor:\n",
        "\"\"\"\n",
        ")\n",
        "\n",
        "#Criando um agente de recomndação\n",
        "agente_recomendacao = Agent(\n",
        "    name=\"Recomendação\",\n",
        "    description=\"Agente que faz recomendações para resolver um problema.\",\n",
        "    model=MODEL_ID,\n",
        "    instruction=\"\"\"\n",
        "Com base no diagnóstico a seguir, recomende 3 ferramentas ou métodos ou frameworks que sejam práticos para o gestor utilizar.\n",
        "Você deve considerar o tipo de desafio, a área afetada e o grau de urgência.\n",
        "\n",
        "Para cada recomendação, forneça:\n",
        "- Tipo de desafio:\n",
        "- Nome da ferramenta ou método:\n",
        "- Descrição:\n",
        "- Saídas esperadas:\n",
        "- Complexidade de implementação: (baixa, média ou alta)\n",
        "\n",
        "Diagnóstico:\n",
        "{{resposta_diagnostico}}\n",
        "\"\"\"\n",
        ")\n",
        "\n",
        "#criando um agente de Justificativa\n",
        "agente_justificativa = Agent(\n",
        "    name=\"Justificativa\",\n",
        "    description=\"Agente que cria a saída para resolver um problema.\",\n",
        "    model=MODEL_ID,\n",
        "    tools=[google_search],\n",
        "    instruction=\"\"\"\n",
        "Você é um consultor especializado em gestão organizacional. Com base no diagnóstico a seguir, forneça **3 recomendações** de ferramentas ou métodos que possam auxiliar o gestor, organizadas por ordem crescente de complexidade de implementação.\n",
        "\n",
        "Para cada recomendação, apresente:\n",
        "- Nome da ferramenta ou método e autor:\n",
        "- Descrição:\n",
        "- Tipo de desafio:\n",
        "- Complexidade de implementação:\n",
        "- Link para aprofundamento:\n",
        "\n",
        "Diagnóstico:\n",
        "{{resposta_recomendacao}}\n",
        "\"\"\"\n",
        ")\n",
        "\n"
      ]
    },
    {
      "cell_type": "code",
      "execution_count": 49,
      "id": "cbd41934",
      "metadata": {
        "id": "cbd41934"
      },
      "outputs": [],
      "source": [
        "# 7 - Função de orquestração dos agentes\n",
        "\n",
        "def orquestrador(Texto_desafio): # Função para orquestrar os agentes\n",
        "    resposta_diagnostico = asyncio.run(call_agent_with_log_async(agente_diagnostico, Texto_desafio)) # Chama o agente de diagnóstico\n",
        "    display(to_markdown(f\"## 🔍 Diagnóstico: \\n{resposta_diagnostico}\")) # Exibe a resposta do diagnóstico\n",
        "    resposta_recomendacao = asyncio.run(call_agent_with_log_async(agente_recomendacao, resposta_diagnostico)) # Chama o agente de recomendação\n",
        "    display(to_markdown(f\"## ✅ Recomendações: \\n{resposta_recomendacao}\")) # Exibe a resposta da recomendação\n",
        "\n",
        "    entrada_justificativa = f\"Diagnóstico: \\n {resposta_diagnostico.strip()} \\nRecomendações: {resposta_recomendacao.strip()}\" # Cria a entrada para o agente de justificativa\n",
        "    resposta_justificativa = asyncio.run(call_agent_with_log_async(agente_justificativa, entrada_justificativa)) # Chama o agente de justificativa\n",
        "    display(to_markdown(f\"## 📝 Justificativa: \\n{resposta_justificativa}\")) # Exibe a resposta da justificativa"
      ]
    },
    {
      "cell_type": "code",
      "execution_count": 50,
      "id": "f45df316",
      "metadata": {
        "id": "f45df316",
        "outputId": "2a6d7c4d-fb78-4b44-a2cd-7ff4b2f573ae",
        "colab": {
          "base_uri": "https://localhost:8080/",
          "height": 545,
          "referenced_widgets": [
            "c8dd6b0f76ad46d39e64e8b7a1c3df4c",
            "445c5841870c4ccbb7ec020cd2739d04",
            "7071b52ea5844141a00ac65e04476050",
            "0ef972bde8d74d8a982c3ce1d08163c6",
            "4e7794a8b7294a30835f2082a80de627",
            "540bdd1e0ec647faa9ed35dfd8b4d443"
          ]
        }
      },
      "outputs": [
        {
          "output_type": "display_data",
          "data": {
            "text/plain": [
              "Textarea(value='', description='Desafio:', layout=Layout(height='200px', width='100%'), placeholder='Descreva …"
            ],
            "application/vnd.jupyter.widget-view+json": {
              "version_major": 2,
              "version_minor": 0,
              "model_id": "c8dd6b0f76ad46d39e64e8b7a1c3df4c"
            }
          },
          "metadata": {}
        },
        {
          "output_type": "display_data",
          "data": {
            "text/plain": [
              "Button(button_style='success', description='Enviar', layout=Layout(width='100%'), style=ButtonStyle(), tooltip…"
            ],
            "application/vnd.jupyter.widget-view+json": {
              "version_major": 2,
              "version_minor": 0,
              "model_id": "0ef972bde8d74d8a982c3ce1d08163c6"
            }
          },
          "metadata": {}
        },
        {
          "output_type": "display_data",
          "data": {
            "text/plain": [
              "<IPython.core.display.Markdown object>"
            ],
            "text/markdown": "> ## 🔍 Diagnóstico: \n> **Interpretação do Desafio:**\n> \n> *   **Tipo de desafio:** Comunicação/Exclusão\n> *   **Área afetada:** Equipe/Colaboração\n> *   **Grau de urgência:** Média (indica frustração e possível impacto na participação/contribuição do gestor)"
          },
          "metadata": {}
        },
        {
          "output_type": "display_data",
          "data": {
            "text/plain": [
              "<IPython.core.display.Markdown object>"
            ],
            "text/markdown": "> ## ✅ Recomendações: \n> ⚠️ Erro ao executar o agente 'Recomendação': 'Context variable not found: `resposta_diagnostico`.'"
          },
          "metadata": {}
        },
        {
          "output_type": "display_data",
          "data": {
            "text/plain": [
              "<IPython.core.display.Markdown object>"
            ],
            "text/markdown": "> ## 📝 Justificativa: \n> ⚠️ Erro ao executar o agente 'Justificativa': 'Context variable not found: `resposta_recomendacao`.'"
          },
          "metadata": {}
        }
      ],
      "source": [
        "# 8- Interface Gráfica\n",
        "\n",
        "entrada_usuario = widgets.Textarea(\n",
        "    description=\"Desafio:\",\n",
        "    placeholder=\"Descreva o desafio enfrentado....\\n Forneça informações como área, porte da empresa, quantidade de membros da equipe, etc.\",\n",
        "    layout=widgets.Layout(width='100%', height='200px'),\n",
        "    style={'description_width': 'initial'}\n",
        ") # Criando uma área de texto para a entrada do usuário\n",
        "\n",
        "botao_enviar = widgets.Button(\n",
        "    description=\"Enviar\",\n",
        "    button_style='success',\n",
        "    layout=widgets.Layout(width='100%'),\n",
        "    style={'description_width': 'initial'},\n",
        "    tooltip=\"Clique para enviar o desafio\"\n",
        ") # Criando um botão para enviar a entrada\n",
        "\n",
        "def ao_clicar_botao(b): # Função para lidar com o clique do botão\n",
        "    texto_desafio = entrada_usuario.value # Obtém o texto do desafio da entrada do usuário\n",
        "    if not texto_desafio.strip():\n",
        "        display(Markdown(\"### ⚠️ Por favor, descreva o desafio antes de enviar.\"))\n",
        "    else:\n",
        "        orquestrador(texto_desafio) # Chama a função orquestrador com o texto do desafio\n",
        "        entrada_usuario.value = \"\" # Limpa a entrada do usuário\n",
        "botao_enviar.on_click(ao_clicar_botao) # Vincula a função ao clique do botão\n",
        "display(entrada_usuario, botao_enviar) # Exibe a interface gráfica"
      ]
    },
    {
      "cell_type": "code",
      "execution_count": null,
      "id": "456f1385",
      "metadata": {
        "id": "456f1385"
      },
      "outputs": [],
      "source": []
    }
  ],
  "metadata": {
    "language_info": {
      "name": "python"
    },
    "colab": {
      "provenance": []
    },
    "kernelspec": {
      "name": "python3",
      "display_name": "Python 3"
    },
    "widgets": {
      "application/vnd.jupyter.widget-state+json": {
        "c8dd6b0f76ad46d39e64e8b7a1c3df4c": {
          "model_module": "@jupyter-widgets/controls",
          "model_name": "TextareaModel",
          "model_module_version": "1.5.0",
          "state": {
            "_dom_classes": [],
            "_model_module": "@jupyter-widgets/controls",
            "_model_module_version": "1.5.0",
            "_model_name": "TextareaModel",
            "_view_count": null,
            "_view_module": "@jupyter-widgets/controls",
            "_view_module_version": "1.5.0",
            "_view_name": "TextareaView",
            "continuous_update": true,
            "description": "Desafio:",
            "description_tooltip": null,
            "disabled": false,
            "layout": "IPY_MODEL_445c5841870c4ccbb7ec020cd2739d04",
            "placeholder": "Descreva o desafio enfrentado....\n Forneça informações como área, porte da empresa, quantidade de membros da equipe, etc.",
            "rows": null,
            "style": "IPY_MODEL_7071b52ea5844141a00ac65e04476050",
            "value": ""
          }
        },
        "445c5841870c4ccbb7ec020cd2739d04": {
          "model_module": "@jupyter-widgets/base",
          "model_name": "LayoutModel",
          "model_module_version": "1.2.0",
          "state": {
            "_model_module": "@jupyter-widgets/base",
            "_model_module_version": "1.2.0",
            "_model_name": "LayoutModel",
            "_view_count": null,
            "_view_module": "@jupyter-widgets/base",
            "_view_module_version": "1.2.0",
            "_view_name": "LayoutView",
            "align_content": null,
            "align_items": null,
            "align_self": null,
            "border": null,
            "bottom": null,
            "display": null,
            "flex": null,
            "flex_flow": null,
            "grid_area": null,
            "grid_auto_columns": null,
            "grid_auto_flow": null,
            "grid_auto_rows": null,
            "grid_column": null,
            "grid_gap": null,
            "grid_row": null,
            "grid_template_areas": null,
            "grid_template_columns": null,
            "grid_template_rows": null,
            "height": "200px",
            "justify_content": null,
            "justify_items": null,
            "left": null,
            "margin": null,
            "max_height": null,
            "max_width": null,
            "min_height": null,
            "min_width": null,
            "object_fit": null,
            "object_position": null,
            "order": null,
            "overflow": null,
            "overflow_x": null,
            "overflow_y": null,
            "padding": null,
            "right": null,
            "top": null,
            "visibility": null,
            "width": "100%"
          }
        },
        "7071b52ea5844141a00ac65e04476050": {
          "model_module": "@jupyter-widgets/controls",
          "model_name": "DescriptionStyleModel",
          "model_module_version": "1.5.0",
          "state": {
            "_model_module": "@jupyter-widgets/controls",
            "_model_module_version": "1.5.0",
            "_model_name": "DescriptionStyleModel",
            "_view_count": null,
            "_view_module": "@jupyter-widgets/base",
            "_view_module_version": "1.2.0",
            "_view_name": "StyleView",
            "description_width": "initial"
          }
        },
        "0ef972bde8d74d8a982c3ce1d08163c6": {
          "model_module": "@jupyter-widgets/controls",
          "model_name": "ButtonModel",
          "model_module_version": "1.5.0",
          "state": {
            "_dom_classes": [],
            "_model_module": "@jupyter-widgets/controls",
            "_model_module_version": "1.5.0",
            "_model_name": "ButtonModel",
            "_view_count": null,
            "_view_module": "@jupyter-widgets/controls",
            "_view_module_version": "1.5.0",
            "_view_name": "ButtonView",
            "button_style": "success",
            "description": "Enviar",
            "disabled": false,
            "icon": "",
            "layout": "IPY_MODEL_4e7794a8b7294a30835f2082a80de627",
            "style": "IPY_MODEL_540bdd1e0ec647faa9ed35dfd8b4d443",
            "tooltip": "Clique para enviar o desafio"
          }
        },
        "4e7794a8b7294a30835f2082a80de627": {
          "model_module": "@jupyter-widgets/base",
          "model_name": "LayoutModel",
          "model_module_version": "1.2.0",
          "state": {
            "_model_module": "@jupyter-widgets/base",
            "_model_module_version": "1.2.0",
            "_model_name": "LayoutModel",
            "_view_count": null,
            "_view_module": "@jupyter-widgets/base",
            "_view_module_version": "1.2.0",
            "_view_name": "LayoutView",
            "align_content": null,
            "align_items": null,
            "align_self": null,
            "border": null,
            "bottom": null,
            "display": null,
            "flex": null,
            "flex_flow": null,
            "grid_area": null,
            "grid_auto_columns": null,
            "grid_auto_flow": null,
            "grid_auto_rows": null,
            "grid_column": null,
            "grid_gap": null,
            "grid_row": null,
            "grid_template_areas": null,
            "grid_template_columns": null,
            "grid_template_rows": null,
            "height": null,
            "justify_content": null,
            "justify_items": null,
            "left": null,
            "margin": null,
            "max_height": null,
            "max_width": null,
            "min_height": null,
            "min_width": null,
            "object_fit": null,
            "object_position": null,
            "order": null,
            "overflow": null,
            "overflow_x": null,
            "overflow_y": null,
            "padding": null,
            "right": null,
            "top": null,
            "visibility": null,
            "width": "100%"
          }
        },
        "540bdd1e0ec647faa9ed35dfd8b4d443": {
          "model_module": "@jupyter-widgets/controls",
          "model_name": "ButtonStyleModel",
          "model_module_version": "1.5.0",
          "state": {
            "_model_module": "@jupyter-widgets/controls",
            "_model_module_version": "1.5.0",
            "_model_name": "ButtonStyleModel",
            "_view_count": null,
            "_view_module": "@jupyter-widgets/base",
            "_view_module_version": "1.2.0",
            "_view_name": "StyleView",
            "button_color": null,
            "font_weight": ""
          }
        }
      }
    }
  },
  "nbformat": 4,
  "nbformat_minor": 5
}