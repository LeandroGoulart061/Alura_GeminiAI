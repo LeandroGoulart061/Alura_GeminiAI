{
  "cells": [
    {
      "cell_type": "code",
      "execution_count": 11,
      "metadata": {
        "id": "uB_7EPGJgziN"
      },
      "outputs": [],
      "source": [
        "## 1- Intalar a biblioteca google-genai\n",
        "\n",
        "%pip -q install google-genai"
      ]
    },
    {
      "cell_type": "code",
      "execution_count": 9,
      "metadata": {
        "id": "_eX81GPhhsEY"
      },
      "outputs": [],
      "source": [
        "## 2- Configurar a API do google-genai\n",
        "\n",
        "import os ##Importa o Módulo os\n",
        "from google.colab import userdata ##Importa o Módulo userdata\n",
        "\n",
        "os.environ[\"GOOGLE_API_KEY\"] = userdata.get('GOOGLE_API_KEY') #Armazena a APi como uma variável"
      ]
    },
    {
      "cell_type": "code",
      "execution_count": 13,
      "metadata": {
        "id": "-YnpZGJ1h178"
      },
      "outputs": [],
      "source": [
        "## 3- Configura o cliente da SDK do Gemini\n",
        "\n",
        "from google import genai #Importa o SDK\n",
        "\n",
        "client = genai.Client() #Cria uma instância do cliente\n",
        "\n",
        "MODEL_ID = \"gemini-2.0-flash\" #Define o modelo"
      ]
    },
    {
      "cell_type": "code",
      "execution_count": 14,
      "metadata": {
        "collapsed": true,
        "id": "wjeaVXbgtTjE",
        "outputId": "ae394208-6189-4781-a5e8-1bbe7d44ae1f",
        "colab": {
          "base_uri": "https://localhost:8080/"
        }
      },
      "outputs": [
        {
          "output_type": "stream",
          "name": "stdout",
          "text": [
            "Requirement already satisfied: google-adk in /usr/local/lib/python3.11/dist-packages (1.0.0)\n",
            "Requirement already satisfied: authlib>=1.5.1 in /usr/local/lib/python3.11/dist-packages (from google-adk) (1.5.2)\n",
            "Requirement already satisfied: click>=8.1.8 in /usr/local/lib/python3.11/dist-packages (from google-adk) (8.2.0)\n",
            "Requirement already satisfied: fastapi>=0.115.0 in /usr/local/lib/python3.11/dist-packages (from google-adk) (0.115.12)\n",
            "Requirement already satisfied: google-api-python-client>=2.157.0 in /usr/local/lib/python3.11/dist-packages (from google-adk) (2.169.0)\n",
            "Requirement already satisfied: google-cloud-aiplatform>=1.87.0 in /usr/local/lib/python3.11/dist-packages (from google-adk) (1.92.0)\n",
            "Requirement already satisfied: google-cloud-secret-manager>=2.22.0 in /usr/local/lib/python3.11/dist-packages (from google-adk) (2.23.3)\n",
            "Requirement already satisfied: google-cloud-speech>=2.30.0 in /usr/local/lib/python3.11/dist-packages (from google-adk) (2.32.0)\n",
            "Requirement already satisfied: google-cloud-storage<3.0.0,>=2.18.0 in /usr/local/lib/python3.11/dist-packages (from google-adk) (2.19.0)\n",
            "Requirement already satisfied: google-genai>=1.14.0 in /usr/local/lib/python3.11/dist-packages (from google-adk) (1.15.0)\n",
            "Requirement already satisfied: graphviz>=0.20.2 in /usr/local/lib/python3.11/dist-packages (from google-adk) (0.20.3)\n",
            "Requirement already satisfied: mcp>=1.5.0 in /usr/local/lib/python3.11/dist-packages (from google-adk) (1.9.0)\n",
            "Requirement already satisfied: opentelemetry-api>=1.31.0 in /usr/local/lib/python3.11/dist-packages (from google-adk) (1.33.1)\n",
            "Requirement already satisfied: opentelemetry-exporter-gcp-trace>=1.9.0 in /usr/local/lib/python3.11/dist-packages (from google-adk) (1.9.0)\n",
            "Requirement already satisfied: opentelemetry-sdk>=1.31.0 in /usr/local/lib/python3.11/dist-packages (from google-adk) (1.33.1)\n",
            "Requirement already satisfied: pydantic<3.0.0,>=2.0 in /usr/local/lib/python3.11/dist-packages (from google-adk) (2.11.4)\n",
            "Requirement already satisfied: python-dotenv>=1.0.0 in /usr/local/lib/python3.11/dist-packages (from google-adk) (1.1.0)\n",
            "Requirement already satisfied: PyYAML>=6.0.2 in /usr/local/lib/python3.11/dist-packages (from google-adk) (6.0.2)\n",
            "Requirement already satisfied: sqlalchemy>=2.0 in /usr/local/lib/python3.11/dist-packages (from google-adk) (2.0.40)\n",
            "Requirement already satisfied: tzlocal>=5.3 in /usr/local/lib/python3.11/dist-packages (from google-adk) (5.3.1)\n",
            "Requirement already satisfied: uvicorn>=0.34.0 in /usr/local/lib/python3.11/dist-packages (from google-adk) (0.34.2)\n",
            "Requirement already satisfied: cryptography in /usr/local/lib/python3.11/dist-packages (from authlib>=1.5.1->google-adk) (43.0.3)\n",
            "Requirement already satisfied: starlette<0.47.0,>=0.40.0 in /usr/local/lib/python3.11/dist-packages (from fastapi>=0.115.0->google-adk) (0.46.2)\n",
            "Requirement already satisfied: typing-extensions>=4.8.0 in /usr/local/lib/python3.11/dist-packages (from fastapi>=0.115.0->google-adk) (4.13.2)\n",
            "Requirement already satisfied: httplib2<1.0.0,>=0.19.0 in /usr/local/lib/python3.11/dist-packages (from google-api-python-client>=2.157.0->google-adk) (0.22.0)\n",
            "Requirement already satisfied: google-auth!=2.24.0,!=2.25.0,<3.0.0,>=1.32.0 in /usr/local/lib/python3.11/dist-packages (from google-api-python-client>=2.157.0->google-adk) (2.38.0)\n",
            "Requirement already satisfied: google-auth-httplib2<1.0.0,>=0.2.0 in /usr/local/lib/python3.11/dist-packages (from google-api-python-client>=2.157.0->google-adk) (0.2.0)\n",
            "Requirement already satisfied: google-api-core!=2.0.*,!=2.1.*,!=2.2.*,!=2.3.0,<3.0.0,>=1.31.5 in /usr/local/lib/python3.11/dist-packages (from google-api-python-client>=2.157.0->google-adk) (2.24.2)\n",
            "Requirement already satisfied: uritemplate<5,>=3.0.1 in /usr/local/lib/python3.11/dist-packages (from google-api-python-client>=2.157.0->google-adk) (4.1.1)\n",
            "Requirement already satisfied: proto-plus<2.0.0,>=1.22.3 in /usr/local/lib/python3.11/dist-packages (from google-cloud-aiplatform>=1.87.0->google-adk) (1.26.1)\n",
            "Requirement already satisfied: protobuf!=4.21.0,!=4.21.1,!=4.21.2,!=4.21.3,!=4.21.4,!=4.21.5,<7.0.0,>=3.20.2 in /usr/local/lib/python3.11/dist-packages (from google-cloud-aiplatform>=1.87.0->google-adk) (5.29.4)\n",
            "Requirement already satisfied: packaging>=14.3 in /usr/local/lib/python3.11/dist-packages (from google-cloud-aiplatform>=1.87.0->google-adk) (24.2)\n",
            "Requirement already satisfied: google-cloud-bigquery!=3.20.0,<4.0.0,>=1.15.0 in /usr/local/lib/python3.11/dist-packages (from google-cloud-aiplatform>=1.87.0->google-adk) (3.32.0)\n",
            "Requirement already satisfied: google-cloud-resource-manager<3.0.0,>=1.3.3 in /usr/local/lib/python3.11/dist-packages (from google-cloud-aiplatform>=1.87.0->google-adk) (1.14.2)\n",
            "Requirement already satisfied: shapely<3.0.0 in /usr/local/lib/python3.11/dist-packages (from google-cloud-aiplatform>=1.87.0->google-adk) (2.1.0)\n",
            "Requirement already satisfied: docstring-parser<1 in /usr/local/lib/python3.11/dist-packages (from google-cloud-aiplatform>=1.87.0->google-adk) (0.16)\n",
            "Requirement already satisfied: grpc-google-iam-v1<1.0.0,>=0.14.0 in /usr/local/lib/python3.11/dist-packages (from google-cloud-secret-manager>=2.22.0->google-adk) (0.14.2)\n",
            "Requirement already satisfied: google-cloud-core<3.0dev,>=2.3.0 in /usr/local/lib/python3.11/dist-packages (from google-cloud-storage<3.0.0,>=2.18.0->google-adk) (2.4.3)\n",
            "Requirement already satisfied: google-resumable-media>=2.7.2 in /usr/local/lib/python3.11/dist-packages (from google-cloud-storage<3.0.0,>=2.18.0->google-adk) (2.7.2)\n",
            "Requirement already satisfied: requests<3.0.0dev,>=2.18.0 in /usr/local/lib/python3.11/dist-packages (from google-cloud-storage<3.0.0,>=2.18.0->google-adk) (2.32.3)\n",
            "Requirement already satisfied: google-crc32c<2.0dev,>=1.0 in /usr/local/lib/python3.11/dist-packages (from google-cloud-storage<3.0.0,>=2.18.0->google-adk) (1.7.1)\n",
            "Requirement already satisfied: anyio<5.0.0,>=4.8.0 in /usr/local/lib/python3.11/dist-packages (from google-genai>=1.14.0->google-adk) (4.9.0)\n",
            "Requirement already satisfied: httpx<1.0.0,>=0.28.1 in /usr/local/lib/python3.11/dist-packages (from google-genai>=1.14.0->google-adk) (0.28.1)\n",
            "Requirement already satisfied: websockets<15.1.0,>=13.0.0 in /usr/local/lib/python3.11/dist-packages (from google-genai>=1.14.0->google-adk) (15.0.1)\n",
            "Requirement already satisfied: httpx-sse>=0.4 in /usr/local/lib/python3.11/dist-packages (from mcp>=1.5.0->google-adk) (0.4.0)\n",
            "Requirement already satisfied: pydantic-settings>=2.5.2 in /usr/local/lib/python3.11/dist-packages (from mcp>=1.5.0->google-adk) (2.9.1)\n",
            "Requirement already satisfied: python-multipart>=0.0.9 in /usr/local/lib/python3.11/dist-packages (from mcp>=1.5.0->google-adk) (0.0.20)\n",
            "Requirement already satisfied: sse-starlette>=1.6.1 in /usr/local/lib/python3.11/dist-packages (from mcp>=1.5.0->google-adk) (2.3.5)\n",
            "Requirement already satisfied: deprecated>=1.2.6 in /usr/local/lib/python3.11/dist-packages (from opentelemetry-api>=1.31.0->google-adk) (1.2.18)\n",
            "Requirement already satisfied: importlib-metadata<8.7.0,>=6.0 in /usr/local/lib/python3.11/dist-packages (from opentelemetry-api>=1.31.0->google-adk) (8.6.1)\n",
            "Requirement already satisfied: google-cloud-trace~=1.1 in /usr/local/lib/python3.11/dist-packages (from opentelemetry-exporter-gcp-trace>=1.9.0->google-adk) (1.16.1)\n",
            "Requirement already satisfied: opentelemetry-resourcedetector-gcp==1.*,>=1.5.0dev0 in /usr/local/lib/python3.11/dist-packages (from opentelemetry-exporter-gcp-trace>=1.9.0->google-adk) (1.9.0a0)\n",
            "Requirement already satisfied: opentelemetry-semantic-conventions==0.54b1 in /usr/local/lib/python3.11/dist-packages (from opentelemetry-sdk>=1.31.0->google-adk) (0.54b1)\n",
            "Requirement already satisfied: annotated-types>=0.6.0 in /usr/local/lib/python3.11/dist-packages (from pydantic<3.0.0,>=2.0->google-adk) (0.7.0)\n",
            "Requirement already satisfied: pydantic-core==2.33.2 in /usr/local/lib/python3.11/dist-packages (from pydantic<3.0.0,>=2.0->google-adk) (2.33.2)\n",
            "Requirement already satisfied: typing-inspection>=0.4.0 in /usr/local/lib/python3.11/dist-packages (from pydantic<3.0.0,>=2.0->google-adk) (0.4.0)\n",
            "Requirement already satisfied: greenlet>=1 in /usr/local/lib/python3.11/dist-packages (from sqlalchemy>=2.0->google-adk) (3.2.2)\n",
            "Requirement already satisfied: h11>=0.8 in /usr/local/lib/python3.11/dist-packages (from uvicorn>=0.34.0->google-adk) (0.16.0)\n",
            "Requirement already satisfied: idna>=2.8 in /usr/local/lib/python3.11/dist-packages (from anyio<5.0.0,>=4.8.0->google-genai>=1.14.0->google-adk) (3.10)\n",
            "Requirement already satisfied: sniffio>=1.1 in /usr/local/lib/python3.11/dist-packages (from anyio<5.0.0,>=4.8.0->google-genai>=1.14.0->google-adk) (1.3.1)\n",
            "Requirement already satisfied: wrapt<2,>=1.10 in /usr/local/lib/python3.11/dist-packages (from deprecated>=1.2.6->opentelemetry-api>=1.31.0->google-adk) (1.17.2)\n",
            "Requirement already satisfied: googleapis-common-protos<2.0.0,>=1.56.2 in /usr/local/lib/python3.11/dist-packages (from google-api-core!=2.0.*,!=2.1.*,!=2.2.*,!=2.3.0,<3.0.0,>=1.31.5->google-api-python-client>=2.157.0->google-adk) (1.70.0)\n",
            "Requirement already satisfied: grpcio<2.0dev,>=1.33.2 in /usr/local/lib/python3.11/dist-packages (from google-api-core[grpc]!=2.0.*,!=2.1.*,!=2.2.*,!=2.3.*,!=2.4.*,!=2.5.*,!=2.6.*,!=2.7.*,<3.0.0,>=1.34.1->google-cloud-aiplatform>=1.87.0->google-adk) (1.71.0)\n",
            "Requirement already satisfied: grpcio-status<2.0.dev0,>=1.33.2 in /usr/local/lib/python3.11/dist-packages (from google-api-core[grpc]!=2.0.*,!=2.1.*,!=2.2.*,!=2.3.*,!=2.4.*,!=2.5.*,!=2.6.*,!=2.7.*,<3.0.0,>=1.34.1->google-cloud-aiplatform>=1.87.0->google-adk) (1.71.0)\n",
            "Requirement already satisfied: cachetools<6.0,>=2.0.0 in /usr/local/lib/python3.11/dist-packages (from google-auth!=2.24.0,!=2.25.0,<3.0.0,>=1.32.0->google-api-python-client>=2.157.0->google-adk) (5.5.2)\n",
            "Requirement already satisfied: pyasn1-modules>=0.2.1 in /usr/local/lib/python3.11/dist-packages (from google-auth!=2.24.0,!=2.25.0,<3.0.0,>=1.32.0->google-api-python-client>=2.157.0->google-adk) (0.4.2)\n",
            "Requirement already satisfied: rsa<5,>=3.1.4 in /usr/local/lib/python3.11/dist-packages (from google-auth!=2.24.0,!=2.25.0,<3.0.0,>=1.32.0->google-api-python-client>=2.157.0->google-adk) (4.9.1)\n",
            "Requirement already satisfied: python-dateutil<3.0.0,>=2.8.2 in /usr/local/lib/python3.11/dist-packages (from google-cloud-bigquery!=3.20.0,<4.0.0,>=1.15.0->google-cloud-aiplatform>=1.87.0->google-adk) (2.9.0.post0)\n",
            "Requirement already satisfied: pyparsing!=3.0.0,!=3.0.1,!=3.0.2,!=3.0.3,<4,>=2.4.2 in /usr/local/lib/python3.11/dist-packages (from httplib2<1.0.0,>=0.19.0->google-api-python-client>=2.157.0->google-adk) (3.2.3)\n",
            "Requirement already satisfied: certifi in /usr/local/lib/python3.11/dist-packages (from httpx<1.0.0,>=0.28.1->google-genai>=1.14.0->google-adk) (2025.4.26)\n",
            "Requirement already satisfied: httpcore==1.* in /usr/local/lib/python3.11/dist-packages (from httpx<1.0.0,>=0.28.1->google-genai>=1.14.0->google-adk) (1.0.9)\n",
            "Requirement already satisfied: zipp>=3.20 in /usr/local/lib/python3.11/dist-packages (from importlib-metadata<8.7.0,>=6.0->opentelemetry-api>=1.31.0->google-adk) (3.21.0)\n",
            "Requirement already satisfied: charset-normalizer<4,>=2 in /usr/local/lib/python3.11/dist-packages (from requests<3.0.0dev,>=2.18.0->google-cloud-storage<3.0.0,>=2.18.0->google-adk) (3.4.2)\n",
            "Requirement already satisfied: urllib3<3,>=1.21.1 in /usr/local/lib/python3.11/dist-packages (from requests<3.0.0dev,>=2.18.0->google-cloud-storage<3.0.0,>=2.18.0->google-adk) (2.4.0)\n",
            "Requirement already satisfied: numpy>=1.21 in /usr/local/lib/python3.11/dist-packages (from shapely<3.0.0->google-cloud-aiplatform>=1.87.0->google-adk) (2.0.2)\n",
            "Requirement already satisfied: cffi>=1.12 in /usr/local/lib/python3.11/dist-packages (from cryptography->authlib>=1.5.1->google-adk) (1.17.1)\n",
            "Requirement already satisfied: pycparser in /usr/local/lib/python3.11/dist-packages (from cffi>=1.12->cryptography->authlib>=1.5.1->google-adk) (2.22)\n",
            "Requirement already satisfied: pyasn1<0.7.0,>=0.6.1 in /usr/local/lib/python3.11/dist-packages (from pyasn1-modules>=0.2.1->google-auth!=2.24.0,!=2.25.0,<3.0.0,>=1.32.0->google-api-python-client>=2.157.0->google-adk) (0.6.1)\n",
            "Requirement already satisfied: six>=1.5 in /usr/local/lib/python3.11/dist-packages (from python-dateutil<3.0.0,>=2.8.2->google-cloud-bigquery!=3.20.0,<4.0.0,>=1.15.0->google-cloud-aiplatform>=1.87.0->google-adk) (1.17.0)\n"
          ]
        }
      ],
      "source": [
        "### 4 - Instala o Google-ADK\n",
        "\n",
        "%pip install google-adk"
      ]
    },
    {
      "cell_type": "code",
      "execution_count": 1,
      "metadata": {
        "id": "ql25N4rhJRN-"
      },
      "outputs": [],
      "source": [
        "# 5 Importar bibliotecas do ADK\n",
        "\n",
        "from google.adk.agents import Agent # Permite criar agente personalizado.\n",
        "from google.adk.runners import Runner # Permite controlar o fluxo da conversa usuário/IA.\n",
        "from google.adk.sessions import InMemorySessionService # Cria sessões em memória para manter o contexto.\n",
        "from google.adk.tools import google_search # Permite consulta na web via google.\n",
        "from google.genai import types  # Para criar conteúdos (Content e Part)\n",
        "from datetime import date # Para capturar data atual\n",
        "import textwrap # Para formatar melhor a saída de texto\n",
        "from IPython.display import display, Markdown # Para exibir texto formatado no Colab\n",
        "import requests # Para fazer requisições HTTP\n",
        "import warnings\n",
        "\n",
        "warnings.filterwarnings(\"ignore\") # Para suprimir avisos e manter o notebook limpo."
      ]
    },
    {
      "cell_type": "code",
      "execution_count": 119,
      "metadata": {
        "id": "zj19F2JZNCQe"
      },
      "outputs": [],
      "source": [
        "# 6 Função auxiliar que envia uma mensagem para um agente via Runner e retorna a resposta final\n",
        "import uuid\n",
        "import nest_asyncio\n",
        "import asyncio\n",
        "\n",
        "nest_asyncio.apply()\n",
        "\n",
        "def call_agent(agent: Agent, message_text: str) -> str:\n",
        "    # Cria um serviço de sessão em memória\n",
        "    session_service = InMemorySessionService()\n",
        "    # Cria uma nova sessão (você pode personalizar os IDs conforme necessário)\n",
        "    session = asyncio.run(session_service.create_session(app_name=agent.name, user_id=\"user1\"))\n",
        "    # Cria a sessão com ID\n",
        "    session_id = str(uuid.uuid4())\n",
        "    # Cria um Runner para o agente\n",
        "    runner = Runner(agent=agent, app_name=agent.name, session_service=session_service)\n",
        "    # Cria o conteúdo da mensagem de entrada\n",
        "    content = types.Content(role=\"user\", parts=[types.Part(text=message_text)])\n",
        "\n",
        "    final_response = \"\"\n",
        "    # Itera assincronamente pelos eventos retornados durante a execução do agente\n",
        "    for event in asyncio.run(runner.run(user_id=\"user1\", session_id = session_id, new_message=content)):\n",
        "        if event.is_final_response():\n",
        "          for part in event.content.parts:\n",
        "            if part.text is not None:\n",
        "              final_response += part.text\n",
        "              final_response += \"\\n\"\n",
        "    return final_response"
      ]
    },
    {
      "cell_type": "code",
      "execution_count": 120,
      "metadata": {
        "id": "W0NowZtIUCsh"
      },
      "outputs": [],
      "source": [
        "# 7 Função auxiliar para exibir texto formatado em Markdown no Colab\n",
        "def to_markdown(text):\n",
        "  text = text.replace('•', '  *')\n",
        "  return Markdown(textwrap.indent(text, '> ', predicate=lambda _: True))"
      ]
    },
    {
      "cell_type": "code",
      "execution_count": 121,
      "metadata": {
        "id": "pUpcVo2Ga4rf"
      },
      "outputs": [],
      "source": [
        "##########################################\n",
        "# --- Agente 1: Diagnóstico--- #\n",
        "##########################################\n",
        "\n",
        "agente_diagnostico = Agent(\n",
        "    name = \"Diagnóstico\",\n",
        "    description = \"Agente que faz o diagnóstico de um problema.\",\n",
        "    model = MODEL_ID,\n",
        "    instruction = \"\"\"\n",
        "    Você é um consultor experiente em gestão empresarial. Sua tarefa é interpretar o texto enviado por um gestor que descreve um desafio real em seu trabalho.\n",
        "\n",
        "    Extraia e retorne de forma clara:\n",
        "    - Tipo de desafio (ex: produtividade, comunicação, priorização, sobrecarga, etc.)\n",
        "    - Área afetada (ex: projetos, processos, equipe, tecnologia, etc.)\n",
        "    - Grau de urgência (baixa, média ou alta)\n",
        "\n",
        "Texto do gestor:\n",
        "\"\"\"\n",
        ")\n",
        ""
      ]
    },
    {
      "cell_type": "code",
      "execution_count": 122,
      "metadata": {
        "id": "RSGYj_GG0etc"
      },
      "outputs": [],
      "source": [
        "##########################################\n",
        "# --- Agente 2: Recomendação--- #\n",
        "##########################################\n",
        "\n",
        "agente_recomendacao = Agent(\n",
        "    name = \"Recomendação\",\n",
        "    description = \"Agente que faz recomendações para resolver um problema.\",\n",
        "    model = \"gemini-2.0-flash-thinking-exp\",\n",
        "    instruction = \"\"\"\n",
        "    Com base no diagnóstico a seguir, recomende 3 ferramentas ou métodos ou frameworks que sejam práticos para o gestor utilizar.\n",
        "    Você deve considerar o tipo de desafio, a área afetada e o grau de urgência.\n",
        "    Para cada recomendação, forneça uma breve descrição de como a ferramenta pode ajudar a resolver o problema e por que ela é adequada para o contexto do gestor.\n",
        "    Categorize as recomendações com base na complexidade de implementação: baixa, média ou alta.\n",
        "    Use a seguinte estrutura para cada recomendação:\n",
        "    - Tipo de desafio:\n",
        "    - Nome da ferramenta ou método:\n",
        "    - Descrição:\n",
        "    - Saídas esperadas: (ex: aumento de produtividade, redução de custos, melhoria na comunicação, etc.)\n",
        "    - Complexidade de implementação: (baixa, média ou alta)\n",
        "\n",
        "    Diagnóstico:\n",
        "    {{input}}\n",
        "\n",
        "    \"\"\"\n",
        ")"
      ]
    },
    {
      "cell_type": "code",
      "execution_count": 123,
      "metadata": {
        "id": "WQnkNb0rtTjF"
      },
      "outputs": [],
      "source": [
        "##########################################\n",
        "# --- Agente 3: Justificativa --- #\n",
        "##########################################\n",
        "\n",
        "agente_justificativa = Agent(\n",
        "    name = \"Justificativa\",\n",
        "    description = \"Agente que cria a saída para resolver um problema.\",\n",
        "    model = MODEL_ID,\n",
        "    tools = [google_search],\n",
        "    instruction = \"\"\"\n",
        "    Você é um consultor especializado em gestão organizacional. Com base no diagnóstico a seguir, forneça **3 recomendações** de ferramentas ou métodos que possam auxiliar o gestor, organizadas por ordem crescente de complexidade de implementação (baixa, média, alta).\n",
        "\n",
        "Para cada recomendação, apresente as seguintes informações:\n",
        "\n",
        "- Nome da ferramenta ou método e autor:\n",
        "- Descrição:\n",
        "- Tipo de desafio: (ex: aumento de produtividade, redução de custos, melhoria na comunicação, etc.)\n",
        "- Complexidade de implementação: (baixa, média ou alta)\n",
        "- Link para aprofundamento: (Você deve apresentar um link relevante pesquisado no google_search)\n",
        "\n",
        "**Diagnóstico:**\n",
        "{{input}}\n",
        "\n",
        "Apresente as informações de forma clara e objetiva.\n",
        "    \"\"\"\n",
        ")"
      ]
    },
    {
      "cell_type": "code",
      "execution_count": 124,
      "metadata": {
        "id": "_rQr8Uu_tTjF"
      },
      "outputs": [],
      "source": [
        "##########################################\n",
        "# --- Fluxo de Orquestração --- #\n",
        "##########################################\n",
        "\n",
        "#função que orquestra o fluxo de trabalho\n",
        "\n",
        "def recomendar_ferramenta(texto_desafio):\n",
        "    # Chama o agente de diagnóstico\n",
        "    resposta_diagnostico = call_agent(agente_diagnostico, texto_desafio)\n",
        "    # Formata resposta do agente de diagnóstico\n",
        "    to_markdown(F\"###🔍 Diagnóstico:\\n{resposta_diagnostico}\")\n",
        "\n",
        "    # Chama o agente de recomendação\n",
        "    resposta_recomendacao = call_agent(agente_recomendacao, resposta_diagnostico)\n",
        "    # Formata resposta do agente de recomendação\n",
        "    to_markdown(F\"### ✅ Recomendação:\\n{resposta_recomendacao}\")\n",
        "\n",
        "    # Chama o agente de justificativa\n",
        "    entrada_justificativa = f\"{resposta_diagnostico.strip()}\\n\\n{resposta_recomendacao.strip()}\"\n",
        "    resposta_justificativa = call_agent(agente_justificativa, entrada_justificativa)\n",
        "    to_markdown(F\"### 📝 Justificativa:\\n{resposta_justificativa}\")"
      ]
    },
    {
      "cell_type": "code",
      "execution_count": 125,
      "metadata": {
        "id": "WvI8JouvtTjG"
      },
      "outputs": [],
      "source": [
        "# 8 - Importa bibliotecas de interface gráfica\n",
        "import ipywidgets as widgets # Para criar widgets interativos\n",
        "from IPython.display import display # Para exibir widgets no Colab"
      ]
    },
    {
      "cell_type": "code",
      "execution_count": 126,
      "metadata": {
        "id": "KMvmmmaPtTjG"
      },
      "outputs": [],
      "source": [
        "\n",
        "# 9 - Cria um widget de entrada de texto para o usuário\n",
        "\n",
        "entrada_usuario = widgets.Textarea(\n",
        "    description='Desafio:',\n",
        "    placeholder='Descreva o desafio que você está enfrentando...\\nForneça informações como: área, tamanho da equipe, porte da empresa e etc...',\n",
        "    layout=widgets.Layout(width='100%', height='200px'),\n",
        "    style={'description_width': 'initial'}\n",
        ")"
      ]
    },
    {
      "cell_type": "code",
      "execution_count": 127,
      "metadata": {
        "id": "N9zMz_-DtTjG"
      },
      "outputs": [],
      "source": [
        "#10 - Cria um botão para enviar a mensagem\n",
        "\n",
        "botao_enviar = widgets.Button(\n",
        "    description='Enviar',\n",
        "    button_style='success',\n",
        "    layout=widgets.Layout(width='100%'),\n",
        "    style={'description_width': 'initial'},\n",
        "    tolltip='Executar agente de recomendação'\n",
        ")\n"
      ]
    },
    {
      "cell_type": "code",
      "execution_count": 128,
      "metadata": {
        "id": "VoIeZ3estTjG"
      },
      "outputs": [],
      "source": [
        "# 12 - Função para o logica do botão\n",
        "def ao_clicar_botao(b):\n",
        "    # Captura o texto do usuário\n",
        "    texto_desafio = entrada_usuario.value\n",
        "    # Cria uma condição para verificar se o campo de entrada está vazio\n",
        "    if not texto_desafio.strip():\n",
        "        # Exibe um aviso se o campo estiver vazio\n",
        "        display(Markdown(\"### ⚠️ Por favor, descreva o desafio que você está enfrentando.\"))\n",
        "    else:\n",
        "        recomendar_ferramenta(texto_desafio)\n",
        "    # Limpa o campo de entrada após o envio\n",
        "    entrada_usuario.value = ''"
      ]
    },
    {
      "cell_type": "code",
      "execution_count": 129,
      "metadata": {
        "id": "NNs_oZvvtTjG",
        "outputId": "1a8843fb-841a-4fdf-83ac-26c9affea44b",
        "colab": {
          "base_uri": "https://localhost:8080/",
          "height": 1000,
          "referenced_widgets": [
            "7701abc9fb9c4892b00183c012eee49a",
            "df7ba59b7378446abef0502f59955fe6",
            "32615604e5f345fb854012380b5b9642",
            "f2bcc330e35442b89cce7c6e82074edc",
            "4fb9bfecc35b43c990535eb6d91901e6",
            "dec33c44d2224a2b981b1ad4a561e2b1"
          ]
        }
      },
      "outputs": [
        {
          "output_type": "display_data",
          "data": {
            "text/plain": [
              "Textarea(value='', description='Desafio:', layout=Layout(height='200px', width='100%'), placeholder='Descreva …"
            ],
            "application/vnd.jupyter.widget-view+json": {
              "version_major": 2,
              "version_minor": 0,
              "model_id": "7701abc9fb9c4892b00183c012eee49a"
            }
          },
          "metadata": {}
        },
        {
          "output_type": "display_data",
          "data": {
            "text/plain": [
              "Button(button_style='success', description='Enviar', layout=Layout(width='100%'), style=ButtonStyle())"
            ],
            "application/vnd.jupyter.widget-view+json": {
              "version_major": 2,
              "version_minor": 0,
              "model_id": "f2bcc330e35442b89cce7c6e82074edc"
            }
          },
          "metadata": {}
        },
        {
          "output_type": "stream",
          "name": "stderr",
          "text": [
            "Exception in thread Thread-22 (_asyncio_thread_main):\n",
            "Traceback (most recent call last):\n",
            "  File \"/usr/lib/python3.11/threading.py\", line 1045, in _bootstrap_inner\n",
            "    self.run()\n",
            "  File \"/usr/lib/python3.11/threading.py\", line 982, in run\n",
            "    self._target(*self._args, **self._kwargs)\n",
            "  File \"/usr/local/lib/python3.11/dist-packages/google/adk/runners.py\", line 137, in _asyncio_thread_main\n",
            "    asyncio.run(_invoke_run_async())\n",
            "  File \"/usr/local/lib/python3.11/dist-packages/nest_asyncio.py\", line 30, in run\n",
            "    return loop.run_until_complete(task)\n",
            "           ^^^^^^^^^^^^^^^^^^^^^^^^^^^^^\n",
            "  File \"/usr/local/lib/python3.11/dist-packages/nest_asyncio.py\", line 98, in run_until_complete\n",
            "    return f.result()\n",
            "           ^^^^^^^^^^\n",
            "  File \"/usr/lib/python3.11/asyncio/futures.py\", line 203, in result\n",
            "    raise self._exception.with_traceback(self._exception_tb)\n",
            "  File \"/usr/lib/python3.11/asyncio/tasks.py\", line 277, in __step\n",
            "    result = coro.send(None)\n",
            "             ^^^^^^^^^^^^^^^\n",
            "  File \"/usr/local/lib/python3.11/dist-packages/google/adk/runners.py\", line 125, in _invoke_run_async\n",
            "    async for event in self.run_async(\n",
            "  File \"/usr/local/lib/python3.11/dist-packages/google/adk/runners.py\", line 178, in run_async\n",
            "    raise ValueError(f'Session not found: {session_id}')\n",
            "ValueError: Session not found: c4e43e74-6dba-4214-89ec-6dfeda10c712\n"
          ]
        },
        {
          "output_type": "error",
          "ename": "TypeError",
          "evalue": "'NoneType' object is not iterable",
          "traceback": [
            "\u001b[0;31m---------------------------------------------------------------------------\u001b[0m",
            "\u001b[0;31mTypeError\u001b[0m                                 Traceback (most recent call last)",
            "\u001b[0;32m<ipython-input-128-570564cb4066>\u001b[0m in \u001b[0;36mao_clicar_botao\u001b[0;34m(b)\u001b[0m\n\u001b[1;32m      8\u001b[0m         \u001b[0mdisplay\u001b[0m\u001b[0;34m(\u001b[0m\u001b[0mMarkdown\u001b[0m\u001b[0;34m(\u001b[0m\u001b[0;34m\"### ⚠️ Por favor, descreva o desafio que você está enfrentando.\"\u001b[0m\u001b[0;34m)\u001b[0m\u001b[0;34m)\u001b[0m\u001b[0;34m\u001b[0m\u001b[0;34m\u001b[0m\u001b[0m\n\u001b[1;32m      9\u001b[0m     \u001b[0;32melse\u001b[0m\u001b[0;34m:\u001b[0m\u001b[0;34m\u001b[0m\u001b[0;34m\u001b[0m\u001b[0m\n\u001b[0;32m---> 10\u001b[0;31m         \u001b[0mrecomendar_ferramenta\u001b[0m\u001b[0;34m(\u001b[0m\u001b[0mtexto_desafio\u001b[0m\u001b[0;34m)\u001b[0m\u001b[0;34m\u001b[0m\u001b[0;34m\u001b[0m\u001b[0m\n\u001b[0m\u001b[1;32m     11\u001b[0m     \u001b[0;31m# Limpa o campo de entrada após o envio\u001b[0m\u001b[0;34m\u001b[0m\u001b[0;34m\u001b[0m\u001b[0m\n\u001b[1;32m     12\u001b[0m     \u001b[0mentrada_usuario\u001b[0m\u001b[0;34m.\u001b[0m\u001b[0mvalue\u001b[0m \u001b[0;34m=\u001b[0m \u001b[0;34m''\u001b[0m\u001b[0;34m\u001b[0m\u001b[0;34m\u001b[0m\u001b[0m\n",
            "\u001b[0;32m<ipython-input-124-b78f4e087cc6>\u001b[0m in \u001b[0;36mrecomendar_ferramenta\u001b[0;34m(texto_desafio)\u001b[0m\n\u001b[1;32m      7\u001b[0m \u001b[0;32mdef\u001b[0m \u001b[0mrecomendar_ferramenta\u001b[0m\u001b[0;34m(\u001b[0m\u001b[0mtexto_desafio\u001b[0m\u001b[0;34m)\u001b[0m\u001b[0;34m:\u001b[0m\u001b[0;34m\u001b[0m\u001b[0;34m\u001b[0m\u001b[0m\n\u001b[1;32m      8\u001b[0m     \u001b[0;31m# Chama o agente de diagnóstico\u001b[0m\u001b[0;34m\u001b[0m\u001b[0;34m\u001b[0m\u001b[0m\n\u001b[0;32m----> 9\u001b[0;31m     \u001b[0mresposta_diagnostico\u001b[0m \u001b[0;34m=\u001b[0m \u001b[0mcall_agent\u001b[0m\u001b[0;34m(\u001b[0m\u001b[0magente_diagnostico\u001b[0m\u001b[0;34m,\u001b[0m \u001b[0mtexto_desafio\u001b[0m\u001b[0;34m)\u001b[0m\u001b[0;34m\u001b[0m\u001b[0;34m\u001b[0m\u001b[0m\n\u001b[0m\u001b[1;32m     10\u001b[0m     \u001b[0;31m# Formata resposta do agente de diagnóstico\u001b[0m\u001b[0;34m\u001b[0m\u001b[0;34m\u001b[0m\u001b[0m\n\u001b[1;32m     11\u001b[0m     \u001b[0mto_markdown\u001b[0m\u001b[0;34m(\u001b[0m\u001b[0;34mF\"###🔍 Diagnóstico:\\n{resposta_diagnostico}\"\u001b[0m\u001b[0;34m)\u001b[0m\u001b[0;34m\u001b[0m\u001b[0;34m\u001b[0m\u001b[0m\n",
            "\u001b[0;32m<ipython-input-119-9854482d65d9>\u001b[0m in \u001b[0;36mcall_agent\u001b[0;34m(agent, message_text)\u001b[0m\n\u001b[1;32m     20\u001b[0m     \u001b[0mfinal_response\u001b[0m \u001b[0;34m=\u001b[0m \u001b[0;34m\"\"\u001b[0m\u001b[0;34m\u001b[0m\u001b[0;34m\u001b[0m\u001b[0m\n\u001b[1;32m     21\u001b[0m     \u001b[0;31m# Itera assincronamente pelos eventos retornados durante a execução do agente\u001b[0m\u001b[0;34m\u001b[0m\u001b[0;34m\u001b[0m\u001b[0m\n\u001b[0;32m---> 22\u001b[0;31m     \u001b[0;32mfor\u001b[0m \u001b[0mevent\u001b[0m \u001b[0;32min\u001b[0m \u001b[0masyncio\u001b[0m\u001b[0;34m.\u001b[0m\u001b[0mrun\u001b[0m\u001b[0;34m(\u001b[0m\u001b[0mrunner\u001b[0m\u001b[0;34m.\u001b[0m\u001b[0mrun\u001b[0m\u001b[0;34m(\u001b[0m\u001b[0muser_id\u001b[0m\u001b[0;34m=\u001b[0m\u001b[0;34m\"user1\"\u001b[0m\u001b[0;34m,\u001b[0m \u001b[0msession_id\u001b[0m \u001b[0;34m=\u001b[0m \u001b[0msession_id\u001b[0m\u001b[0;34m,\u001b[0m \u001b[0mnew_message\u001b[0m\u001b[0;34m=\u001b[0m\u001b[0mcontent\u001b[0m\u001b[0;34m)\u001b[0m\u001b[0;34m)\u001b[0m\u001b[0;34m:\u001b[0m\u001b[0;34m\u001b[0m\u001b[0;34m\u001b[0m\u001b[0m\n\u001b[0m\u001b[1;32m     23\u001b[0m         \u001b[0;32mif\u001b[0m \u001b[0mevent\u001b[0m\u001b[0;34m.\u001b[0m\u001b[0mis_final_response\u001b[0m\u001b[0;34m(\u001b[0m\u001b[0;34m)\u001b[0m\u001b[0;34m:\u001b[0m\u001b[0;34m\u001b[0m\u001b[0;34m\u001b[0m\u001b[0m\n\u001b[1;32m     24\u001b[0m           \u001b[0;32mfor\u001b[0m \u001b[0mpart\u001b[0m \u001b[0;32min\u001b[0m \u001b[0mevent\u001b[0m\u001b[0;34m.\u001b[0m\u001b[0mcontent\u001b[0m\u001b[0;34m.\u001b[0m\u001b[0mparts\u001b[0m\u001b[0;34m:\u001b[0m\u001b[0;34m\u001b[0m\u001b[0;34m\u001b[0m\u001b[0m\n",
            "\u001b[0;31mTypeError\u001b[0m: 'NoneType' object is not iterable"
          ]
        }
      ],
      "source": [
        "#13 Conecta o botão à função\n",
        "botao_enviar.on_click(ao_clicar_botao)\n",
        "# 14 - Exibe os widgets na tela\n",
        "display(entrada_usuario, botao_enviar)"
      ]
    }
  ],
  "metadata": {
    "colab": {
      "provenance": []
    },
    "kernelspec": {
      "display_name": "Python 3",
      "name": "python3"
    },
    "language_info": {
      "name": "python"
    },
    "widgets": {
      "application/vnd.jupyter.widget-state+json": {
        "7701abc9fb9c4892b00183c012eee49a": {
          "model_module": "@jupyter-widgets/controls",
          "model_name": "TextareaModel",
          "model_module_version": "1.5.0",
          "state": {
            "_dom_classes": [],
            "_model_module": "@jupyter-widgets/controls",
            "_model_module_version": "1.5.0",
            "_model_name": "TextareaModel",
            "_view_count": null,
            "_view_module": "@jupyter-widgets/controls",
            "_view_module_version": "1.5.0",
            "_view_name": "TextareaView",
            "continuous_update": true,
            "description": "Desafio:",
            "description_tooltip": null,
            "disabled": false,
            "layout": "IPY_MODEL_df7ba59b7378446abef0502f59955fe6",
            "placeholder": "Descreva o desafio que você está enfrentando...\nForneça informações como: área, tamanho da equipe, porte da empresa e etc...",
            "rows": null,
            "style": "IPY_MODEL_32615604e5f345fb854012380b5b9642",
            "value": "Equipes trabalham em tarefas desconexas sem saber o que é mais importante. Isso gera desperdício de tempo e desalinhamento estratégico."
          }
        },
        "df7ba59b7378446abef0502f59955fe6": {
          "model_module": "@jupyter-widgets/base",
          "model_name": "LayoutModel",
          "model_module_version": "1.2.0",
          "state": {
            "_model_module": "@jupyter-widgets/base",
            "_model_module_version": "1.2.0",
            "_model_name": "LayoutModel",
            "_view_count": null,
            "_view_module": "@jupyter-widgets/base",
            "_view_module_version": "1.2.0",
            "_view_name": "LayoutView",
            "align_content": null,
            "align_items": null,
            "align_self": null,
            "border": null,
            "bottom": null,
            "display": null,
            "flex": null,
            "flex_flow": null,
            "grid_area": null,
            "grid_auto_columns": null,
            "grid_auto_flow": null,
            "grid_auto_rows": null,
            "grid_column": null,
            "grid_gap": null,
            "grid_row": null,
            "grid_template_areas": null,
            "grid_template_columns": null,
            "grid_template_rows": null,
            "height": "200px",
            "justify_content": null,
            "justify_items": null,
            "left": null,
            "margin": null,
            "max_height": null,
            "max_width": null,
            "min_height": null,
            "min_width": null,
            "object_fit": null,
            "object_position": null,
            "order": null,
            "overflow": null,
            "overflow_x": null,
            "overflow_y": null,
            "padding": null,
            "right": null,
            "top": null,
            "visibility": null,
            "width": "100%"
          }
        },
        "32615604e5f345fb854012380b5b9642": {
          "model_module": "@jupyter-widgets/controls",
          "model_name": "DescriptionStyleModel",
          "model_module_version": "1.5.0",
          "state": {
            "_model_module": "@jupyter-widgets/controls",
            "_model_module_version": "1.5.0",
            "_model_name": "DescriptionStyleModel",
            "_view_count": null,
            "_view_module": "@jupyter-widgets/base",
            "_view_module_version": "1.2.0",
            "_view_name": "StyleView",
            "description_width": "initial"
          }
        },
        "f2bcc330e35442b89cce7c6e82074edc": {
          "model_module": "@jupyter-widgets/controls",
          "model_name": "ButtonModel",
          "model_module_version": "1.5.0",
          "state": {
            "_dom_classes": [],
            "_model_module": "@jupyter-widgets/controls",
            "_model_module_version": "1.5.0",
            "_model_name": "ButtonModel",
            "_view_count": null,
            "_view_module": "@jupyter-widgets/controls",
            "_view_module_version": "1.5.0",
            "_view_name": "ButtonView",
            "button_style": "success",
            "description": "Enviar",
            "disabled": false,
            "icon": "",
            "layout": "IPY_MODEL_4fb9bfecc35b43c990535eb6d91901e6",
            "style": "IPY_MODEL_dec33c44d2224a2b981b1ad4a561e2b1",
            "tooltip": ""
          }
        },
        "4fb9bfecc35b43c990535eb6d91901e6": {
          "model_module": "@jupyter-widgets/base",
          "model_name": "LayoutModel",
          "model_module_version": "1.2.0",
          "state": {
            "_model_module": "@jupyter-widgets/base",
            "_model_module_version": "1.2.0",
            "_model_name": "LayoutModel",
            "_view_count": null,
            "_view_module": "@jupyter-widgets/base",
            "_view_module_version": "1.2.0",
            "_view_name": "LayoutView",
            "align_content": null,
            "align_items": null,
            "align_self": null,
            "border": null,
            "bottom": null,
            "display": null,
            "flex": null,
            "flex_flow": null,
            "grid_area": null,
            "grid_auto_columns": null,
            "grid_auto_flow": null,
            "grid_auto_rows": null,
            "grid_column": null,
            "grid_gap": null,
            "grid_row": null,
            "grid_template_areas": null,
            "grid_template_columns": null,
            "grid_template_rows": null,
            "height": null,
            "justify_content": null,
            "justify_items": null,
            "left": null,
            "margin": null,
            "max_height": null,
            "max_width": null,
            "min_height": null,
            "min_width": null,
            "object_fit": null,
            "object_position": null,
            "order": null,
            "overflow": null,
            "overflow_x": null,
            "overflow_y": null,
            "padding": null,
            "right": null,
            "top": null,
            "visibility": null,
            "width": "100%"
          }
        },
        "dec33c44d2224a2b981b1ad4a561e2b1": {
          "model_module": "@jupyter-widgets/controls",
          "model_name": "ButtonStyleModel",
          "model_module_version": "1.5.0",
          "state": {
            "_model_module": "@jupyter-widgets/controls",
            "_model_module_version": "1.5.0",
            "_model_name": "ButtonStyleModel",
            "_view_count": null,
            "_view_module": "@jupyter-widgets/base",
            "_view_module_version": "1.2.0",
            "_view_name": "StyleView",
            "button_color": null,
            "font_weight": ""
          }
        }
      }
    }
  },
  "nbformat": 4,
  "nbformat_minor": 0
}