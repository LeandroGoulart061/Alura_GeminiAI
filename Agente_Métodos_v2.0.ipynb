{
  "cells": [
    {
      "cell_type": "code",
      "execution_count": 11,
      "metadata": {
        "id": "uB_7EPGJgziN"
      },
      "outputs": [],
      "source": [
<<<<<<< HEAD
        "## 1- Intalar a biblioteca google-genai\n",
=======
        "## 1- Intalar a biblioteca google-genai  e google-adk##\n",
>>>>>>> 0170f0f (Revisão de código)
        "\n",
        "%pip -q install google-genai\n",
        "\n",
        "%pip install google-adk"
      ]
    },
    {
      "cell_type": "code",
      "execution_count": 9,
      "metadata": {
        "id": "_eX81GPhhsEY"
      },
      "outputs": [],
      "source": [
        "## 2- Configurar a API do google-genai\n",
        "\n",
        "import os ##Importa o Módulo os\n",
        "from google.colab import userdata ##Importa o Módulo userdata\n",
        "\n",
        "os.environ[\"GOOGLE_API_KEY\"] = userdata.get('GOOGLE_API_KEY') #Armazena a APi como uma variável"
      ]
    },
    {
      "cell_type": "code",
      "execution_count": 13,
      "metadata": {
        "id": "-YnpZGJ1h178"
      },
      "outputs": [],
      "source": [
        "## 3- Configura o cliente da SDK do Gemini\n",
        "\n",
        "from google import genai #Importa o SDK\n",
        "\n",
        "client = genai.Client() #Cria uma instância do cliente\n",
        "\n",
        "MODEL_ID = \"gemini-2.0-flash\" #Define o modelo"
      ]
    },
    {
      "cell_type": "code",
      "execution_count": null,
<<<<<<< HEAD
      "metadata": {
        "collapsed": true,
        "id": "wjeaVXbgtTjE"
      },
      "outputs": [],
      "source": [
        "### 4 - Instala o Google-ADK\n",
        "\n",
        "%pip install google-adk"
      ]
    },
    {
      "cell_type": "code",
      "execution_count": 1,
=======
>>>>>>> 0170f0f (Revisão de código)
      "metadata": {
        "id": "ql25N4rhJRN-"
      },
      "outputs": [],
      "source": [
        "# 4 Importar bibliotecas do ADK e utilitários\n",
        "\n",
        "from google.adk.agents import Agent # Permite criar agente personalizado.\n",
        "from google.adk.runners import Runner # Permite controlar o fluxo da conversa usuário/IA.\n",
        "from google.adk.sessions import InMemorySessionService # Cria sessões em memória para manter o contexto.\n",
        "from google.adk.tools import google_search # Permite consulta na web via google.\n",
        "from google.genai import types  # Para criar conteúdos (Content e Part)\n",
        "from datetime import date # Para capturar data atual\n",
        "import textwrap # Para formatar melhor a saída de texto\n",
        "import uuid # Para gerar IDs únicos\n",
        "import nest_asyncio #para evitar erro de loop de eventos\n",
        "import asyncio #para executar funções assíncronas\n",
        "from IPython.display import display, Markdown # Para exibir texto formatado no Colab\n",
        "import requests # Para fazer requisições HTTP\n",
        "import warnings\n",
        "import ipywidgets as widgets # Para criar widgets interativos\n",
        "\n",
        "warnings.filterwarnings(\"ignore\") # Para suprimir avisos e manter o notebook limpo.\n",
        "nest_asyncio.apply() # Para evitar erro de loop de eventos"
      ]
    },
    {
      "cell_type": "code",
      "execution_count": 119,
      "metadata": {
        "id": "zj19F2JZNCQe"
      },
      "outputs": [],
      "source": [
<<<<<<< HEAD
        "# 6 Função auxiliar que envia uma mensagem para um agente via Runner e retorna a resposta final\n",
        "import uuid\n",
        "import nest_asyncio\n",
        "import asyncio\n",
        "\n",
        "nest_asyncio.apply()\n",
        "\n",
        "def call_agent(agent: Agent, message_text: str) -> str:\n",
        "    # Cria um serviço de sessão em memória\n",
        "    session_service = InMemorySessionService()\n",
        "    # Cria uma nova sessão (você pode personalizar os IDs conforme necessário)\n",
        "    session = asyncio.run(session_service.create_session(app_name=agent.name, user_id=\"user1\"))\n",
        "    # Cria a sessão com ID\n",
        "    session_id = str(uuid.uuid4())\n",
=======
        "# 5 Função auxiliar que envia uma mensagem para um agente via Runner e retorna a resposta final\n",
        "def call_agent(agent: Agent, message_text: str) -> str:\n",
        "    # Cria um serviço de sessão em memória\n",
        "    session_service = InMemorySessionService()\n",
        "    # Cria uma nova sessão para o agente o Id da sessão é gerado automaticamente\n",
        "    session = asyncio.run(session_service.create_session(app_name=agent.name, user_id=\"user1\"))\n",
>>>>>>> 0170f0f (Revisão de código)
        "    # Cria um Runner para o agente\n",
        "    runner = Runner(agent=agent, app_name=agent.name, session_service=session_service)\n",
        "    # Cria o conteúdo da mensagem de entrada\n",
        "    content = types.Content(role=\"user\", parts=[types.Part(text=message_text)])\n",
        "\n",
        "    final_response = \"\"\n",
        "    # Itera assincronamente pelos eventos retornados durante a execução do agente\n",
<<<<<<< HEAD
        "    for event in asyncio.run(runner.run(user_id=\"user1\", session_id = session_id, new_message=content)):\n",
=======
        "    for event in asyncio.run(runner.run(user_id=\"user1\", session_id=\"session1\", new_message=content)):\n",
>>>>>>> 0170f0f (Revisão de código)
        "        if event.is_final_response():\n",
        "          for part in event.content.parts:\n",
        "            if part.text:\n",
        "              final_response += part.text\n",
        "              final_response += \"\\n\"\n",
        "    return final_response"
      ]
    },
    {
      "cell_type": "code",
<<<<<<< HEAD
      "execution_count": 120,
=======
      "execution_count": null,
>>>>>>> 0170f0f (Revisão de código)
      "metadata": {
        "id": "W0NowZtIUCsh"
      },
      "outputs": [],
      "source": [
        "# 6 Função auxiliar para exibir texto formatado em Markdown no Colab\n",
        "def to_markdown(text):\n",
        "  text = text.replace('•', '  *')\n",
        "  return Markdown(textwrap.indent(text, '> ', predicate=lambda _: True))"
      ]
    },
    {
      "cell_type": "code",
      "execution_count": 121,
      "metadata": {
        "id": "pUpcVo2Ga4rf"
      },
      "outputs": [],
      "source": [
        "##########################################\n",
        "# --- Agente 1: Diagnóstico--- #\n",
        "##########################################\n",
        "\n",
        "agente_diagnostico = Agent(\n",
        "    name = \"Diagnóstico\",\n",
        "    description = \"Agente que faz o diagnóstico de um problema.\",\n",
        "    model = MODEL_ID,\n",
        "    instruction = \"\"\"\n",
        "    Você é um consultor experiente em gestão empresarial. Sua tarefa é interpretar o texto enviado por um gestor que descreve um desafio real em seu trabalho.\n",
        "\n",
        "    Extraia e retorne de forma clara:\n",
        "    - Tipo de desafio (ex: produtividade, comunicação, priorização, sobrecarga, etc.)\n",
        "    - Área afetada (ex: projetos, processos, equipe, tecnologia, etc.)\n",
        "    - Grau de urgência (baixa, média ou alta)\n",
        "\n",
        "Texto do gestor:\n",
        "\"\"\"\n",
        ")\n",
        ""
      ]
    },
    {
      "cell_type": "code",
      "execution_count": 122,
      "metadata": {
        "id": "RSGYj_GG0etc"
      },
      "outputs": [],
      "source": [
        "##########################################\n",
        "# --- Agente 2: Recomendação--- #\n",
        "##########################################\n",
        "\n",
        "agente_recomendacao = Agent(\n",
        "    name = \"Recomendação\",\n",
        "    description = \"Agente que faz recomendações para resolver um problema.\",\n",
        "    model = \"gemini-2.0-flash-thinking-exp\",\n",
        "    instruction = \"\"\"\n",
        "    Com base no diagnóstico a seguir, recomende 3 ferramentas ou métodos ou frameworks que sejam práticos para o gestor utilizar.\n",
        "    Você deve considerar o tipo de desafio, a área afetada e o grau de urgência.\n",
        "    Para cada recomendação, forneça uma breve descrição de como a ferramenta pode ajudar a resolver o problema e por que ela é adequada para o contexto do gestor.\n",
        "    Categorize as recomendações com base na complexidade de implementação: baixa, média ou alta.\n",
        "    Use a seguinte estrutura para cada recomendação:\n",
        "    - Tipo de desafio:\n",
        "    - Nome da ferramenta ou método:\n",
        "    - Descrição:\n",
        "    - Saídas esperadas: (ex: aumento de produtividade, redução de custos, melhoria na comunicação, etc.)\n",
        "    - Complexidade de implementação: (baixa, média ou alta)\n",
        "\n",
        "    Diagnóstico:\n",
        "    {{input}}\n",
        "\n",
        "    \"\"\"\n",
        ")"
      ]
    },
    {
      "cell_type": "code",
      "execution_count": 123,
      "metadata": {
        "id": "WQnkNb0rtTjF"
      },
      "outputs": [],
      "source": [
        "##########################################\n",
        "# --- Agente 3: Justificativa --- #\n",
        "##########################################\n",
        "\n",
        "agente_justificativa = Agent(\n",
        "    name = \"Justificativa\",\n",
        "    description = \"Agente que cria a saída para resolver um problema.\",\n",
        "    model = MODEL_ID,\n",
        "    tools = [google_search],\n",
        "    instruction = \"\"\"\n",
        "    Você é um consultor especializado em gestão organizacional. Com base no diagnóstico a seguir, forneça **3 recomendações** de ferramentas ou métodos que possam auxiliar o gestor, organizadas por ordem crescente de complexidade de implementação (baixa, média, alta).\n",
        "\n",
        "Para cada recomendação, apresente as seguintes informações:\n",
        "\n",
        "- Nome da ferramenta ou método e autor:\n",
        "- Descrição:\n",
        "- Tipo de desafio: (ex: aumento de produtividade, redução de custos, melhoria na comunicação, etc.)\n",
        "- Complexidade de implementação: (baixa, média ou alta)\n",
        "- Link para aprofundamento: (Você deve apresentar um link relevante pesquisado no google_search)\n",
        "\n",
        "**Diagnóstico:**\n",
        "{{input}}\n",
        "\n",
        "Apresente as informações de forma clara e objetiva.\n",
        "    \"\"\"\n",
        ")"
      ]
    },
    {
      "cell_type": "code",
      "execution_count": 124,
      "metadata": {
        "id": "_rQr8Uu_tTjF"
      },
      "outputs": [],
      "source": [
        "##########################################\n",
        "# --- Fluxo de Orquestração --- #\n",
        "##########################################\n",
        "\n",
        "#função que orquestra o fluxo de trabalho\n",
        "\n",
        "def recomendar_ferramenta(texto_desafio):\n",
        "    # Chama o agente de diagnóstico\n",
        "    resposta_diagnostico = call_agent(agente_diagnostico, texto_desafio)\n",
        "    # Formata resposta do agente de diagnóstico\n",
        "    to_markdown(F\"###🔍 Diagnóstico:\\n{resposta_diagnostico}\")\n",
        "\n",
        "    # Chama o agente de recomendação\n",
        "    resposta_recomendacao = call_agent(agente_recomendacao, resposta_diagnostico)\n",
        "    # Formata resposta do agente de recomendação\n",
        "    to_markdown(F\"### ✅ Recomendação:\\n{resposta_recomendacao}\")\n",
        "\n",
        "    # Chama o agente de justificativa\n",
        "    entrada_justificativa = f\"{resposta_diagnostico.strip()}\\n\\n{resposta_recomendacao.strip()}\"\n",
        "    resposta_justificativa = call_agent(agente_justificativa, entrada_justificativa)\n",
        "    to_markdown(F\"### 📝 Justificativa:\\n{resposta_justificativa}\")"
      ]
    },
    {
      "cell_type": "code",
      "execution_count": 125,
      "metadata": {
        "id": "WvI8JouvtTjG"
      },
      "outputs": [],
      "source": [
<<<<<<< HEAD
        "# 8 - Importa bibliotecas de interface gráfica\n",
        "import ipywidgets as widgets # Para criar widgets interativos\n",
        "from IPython.display import display # Para exibir widgets no Colab"
      ]
    },
    {
      "cell_type": "code",
      "execution_count": 126,
      "metadata": {
        "id": "KMvmmmaPtTjG"
      },
      "outputs": [],
      "source": [
        "\n",
=======
>>>>>>> 0170f0f (Revisão de código)
        "# 9 - Cria um widget de entrada de texto para o usuário\n",
        "\n",
        "entrada_usuario = widgets.Textarea(\n",
        "    description='Desafio:',\n",
        "    placeholder='Descreva o desafio que você está enfrentando...\\nForneça informações como: área, tamanho da equipe, porte da empresa e etc...',\n",
        "    layout=widgets.Layout(width='100%', height='200px'),\n",
        "    style={'description_width': 'initial'}\n",
        ")"
      ]
    },
    {
      "cell_type": "code",
      "execution_count": 127,
      "metadata": {
        "id": "N9zMz_-DtTjG"
      },
      "outputs": [],
      "source": [
        "#10 - Cria um botão para enviar a mensagem\n",
        "\n",
        "botao_enviar = widgets.Button(\n",
        "    description='Enviar',\n",
        "    button_style='success',\n",
        "    layout=widgets.Layout(width='100%'),\n",
        "    style={'description_width': 'initial'},\n",
        "    tooltip='Executar agente de recomendação'\n",
        ")\n"
      ]
    },
    {
      "cell_type": "code",
<<<<<<< HEAD
      "execution_count": 136,
      "metadata": {
        "id": "VoIeZ3estTjG"
      },
      "outputs": [],
      "source": [
        "# 12 - Função para o logica do botão\n",
        "def ao_clicar_botao(b):\n",
        "    # Captura o texto do usuário\n",
        "    texto_desafio = entrada_usuario.value\n",
        "    # Cria uma condição para verificar se o campo de entrada está vazio\n",
=======
      "execution_count": null,
      "metadata": {},
      "outputs": [],
      "source": [
        "# 11 - Função para a lógica para o botão\n",
        "\n",
        "def ao_clicar_botao(b):\n",
        "    # Captura o texto do usuário\n",
        "    texto_desafio = entrada_usuario.value\n",
>>>>>>> 0170f0f (Revisão de código)
        "    if not texto_desafio.strip():\n",
        "        display(Markdown(\"**⚠️ Por favor, descreva o desafio que você está enfrentando.**\"))\n",
        "    else:\n",
<<<<<<< HEAD
        "        recomendar_ferramenta(texto_desafio)\n",
        "    # Limpa o campo de entrada após o envio\n",
        "    entrada_usuario.value = ''"
=======
        "    # Chama a função de recomendação\n",
        "        recomendar_ferramenta(texto_desafio)\n",
        "        entrada_usuario.value = ''"
>>>>>>> 0170f0f (Revisão de código)
      ]
    }
  ],
  "metadata": {
    "colab": {
      "provenance": []
    },
    "kernelspec": {
      "display_name": "Python 3",
      "name": "python3"
    },
    "language_info": {
      "name": "python"
    }
  },
  "nbformat": 4,
  "nbformat_minor": 0
}